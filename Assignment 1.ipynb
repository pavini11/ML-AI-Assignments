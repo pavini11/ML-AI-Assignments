{
 "cells": [
  {
   "cell_type": "markdown",
   "metadata": {},
   "source": [
    "# Assignment 1"
   ]
  },
  {
   "cell_type": "markdown",
   "metadata": {},
   "source": [
    "## Section A:"
   ]
  },
  {
   "cell_type": "code",
   "execution_count": 37,
   "metadata": {},
   "outputs": [
    {
     "name": "stdout",
     "output_type": "stream",
     "text": [
      "15.0\n"
     ]
    }
   ],
   "source": [
    "h=3\n",
    "b=10\n",
    "area=0.5*h*b\n",
    "print(area)"
   ]
  },
  {
   "cell_type": "code",
   "execution_count": 5,
   "metadata": {},
   "outputs": [
    {
     "name": "stdout",
     "output_type": "stream",
     "text": [
      "Item with index 2:\n",
      "35\n",
      "First three items:\n",
      "15\n",
      "20\n",
      "35\n",
      "Last three items:\n",
      "30\n",
      "35\n",
      "60\n",
      "Third last items:\n",
      "30\n"
     ]
    }
   ],
   "source": [
    "a=[15,20,35,40,45,30,35,60]\n",
    "print('Item with index 2:')\n",
    "print(a[2])\n",
    "print('First three items:')\n",
    "for i in range(3) :\n",
    "    print(a[i])\n",
    "print('Last three items:')\n",
    "for i in range(-3,0,1) :\n",
    "    print(a[i])\n",
    "print('Third last items:')\n",
    "print(a[-3])"
   ]
  },
  {
   "cell_type": "code",
   "execution_count": 7,
   "metadata": {},
   "outputs": [
    {
     "name": "stdout",
     "output_type": "stream",
     "text": [
      "['request', 'source', 'repository', 'branch']\n"
     ]
    }
   ],
   "source": [
    "myList = ['request', 'source', 'repository', 'branch']\n",
    "Tuple = list(myList)\n",
    "print(Tuple)"
   ]
  },
  {
   "cell_type": "code",
   "execution_count": 9,
   "metadata": {},
   "outputs": [
    {
     "name": "stdout",
     "output_type": "stream",
     "text": [
      "john likes open-source software.\n"
     ]
    }
   ],
   "source": [
    "new_open_string = \"john likes {} {}.\"\n",
    "print(new_open_string.format(\"open-source\",\"software\"))"
   ]
  },
  {
   "cell_type": "code",
   "execution_count": 10,
   "metadata": {},
   "outputs": [
    {
     "name": "stdout",
     "output_type": "stream",
     "text": [
      "john loves open-source software, and has 10 balloons.\n"
     ]
    }
   ],
   "source": [
    "sammy_string = \"john loves {} {}, and has {} {}.\"\n",
    "print(sammy_string.format(\"open-source\",\"software\",\"10\",\"balloons\"))"
   ]
  },
  {
   "cell_type": "code",
   "execution_count": 11,
   "metadata": {},
   "outputs": [
    {
     "name": "stdout",
     "output_type": "stream",
     "text": [
      "john has shark has a pet pilot fish\n",
      "john is a happy, smiling, and blue shark!\n"
     ]
    }
   ],
   "source": [
    "print(\"john has {0} has a pet {1}\".format(\"shark\",\"pilot fish\"))\n",
    "print(\"john is a {}, {}, and {} {}!\".format(\"happy\",\"smiling\",\"blue\",\"shark\"))"
   ]
  },
  {
   "cell_type": "code",
   "execution_count": 13,
   "metadata": {},
   "outputs": [
    {
     "name": "stdout",
     "output_type": "stream",
     "text": [
      "175\n",
      "210\n",
      "245\n"
     ]
    }
   ],
   "source": [
    "for i in range(150,270,1):\n",
    "    if (i%35)==0:\n",
    "        print(i)"
   ]
  },
  {
   "cell_type": "code",
   "execution_count": 15,
   "metadata": {},
   "outputs": [
    {
     "name": "stdout",
     "output_type": "stream",
     "text": [
      "[70, 40, 10, 50, 20, 60, 30]\n"
     ]
    }
   ],
   "source": [
    "a = [10,20,30,40,50,60,70]\n",
    "final = set(a)\n",
    "print(list(final))"
   ]
  },
  {
   "cell_type": "markdown",
   "metadata": {},
   "source": [
    "## Section B:"
   ]
  },
  {
   "cell_type": "code",
   "execution_count": null,
   "metadata": {},
   "outputs": [],
   "source": [
    "A.scisaB nohtyP\n",
    "B.re\n",
    "C.Both of the above\n",
    "D.('M','*','*','*','i','n','*')\n",
    "E.[6.2202, 'aboy', False, 87]\n",
    "F.L*oo#frph#e|#wkhq1\n",
    "G.None of these\n",
    "H.[5, 2, 'gfg']\n",
    "I.[1, 2, 3, 4] ((4, 6, 8), 10)\n",
    "J.Cannot divide by 0 GFG"
   ]
  }
 ],
 "metadata": {
  "kernelspec": {
   "display_name": "Python 3",
   "language": "python",
   "name": "python3"
  },
  "language_info": {
   "codemirror_mode": {
    "name": "ipython",
    "version": 3
   },
   "file_extension": ".py",
   "mimetype": "text/x-python",
   "name": "python",
   "nbconvert_exporter": "python",
   "pygments_lexer": "ipython3",
   "version": "3.8.5"
  }
 },
 "nbformat": 4,
 "nbformat_minor": 4
}
